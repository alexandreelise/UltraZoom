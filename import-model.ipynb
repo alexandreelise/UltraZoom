{
 "cells": [
  {
   "cell_type": "code",
   "execution_count": null,
   "id": "0ba2f310",
   "metadata": {},
   "outputs": [],
   "source": [
    "import torch\n",
    "\n",
    "from torchvision.io import decode_image\n",
    "from torchvision.transforms.v2 import ToDtype, ToPILImage\n",
    "\n",
    "from ultrazoom.model import UltraZoom\n",
    "\n",
    "\n",
    "model_name = \"andrewdalpino/UltraZoom-2X\"\n",
    "image_path = \"./dataset/bird.png\"\n",
    "\n",
    "model = UltraZoom.from_pretrained(model_name)\n",
    "\n",
    "print(f\"Model has {model.num_params:,} parameters.\")\n",
    "\n",
    "image_to_tensor = ToDtype(torch.float32, scale=True)\n",
    "tensor_to_pil = ToPILImage()\n",
    "\n",
    "image = decode_image(image_path, mode=\"RGB\")\n",
    "\n",
    "x = image_to_tensor(image).unsqueeze(0)\n",
    "\n",
    "y_pred = model.upscale(x)\n",
    "\n",
    "pil_image = tensor_to_pil(y_pred.squeeze(0))\n",
    "\n",
    "pil_image.show()"
   ]
  }
 ],
 "metadata": {
  "kernelspec": {
   "display_name": ".venv",
   "language": "python",
   "name": "python3"
  },
  "language_info": {
   "codemirror_mode": {
    "name": "ipython",
    "version": 3
   },
   "file_extension": ".py",
   "mimetype": "text/x-python",
   "name": "python",
   "nbconvert_exporter": "python",
   "pygments_lexer": "ipython3",
   "version": "3.12.3"
  }
 },
 "nbformat": 4,
 "nbformat_minor": 5
}
